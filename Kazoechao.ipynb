{
 "cells": [
  {
   "cell_type": "markdown",
   "metadata": {},
   "source": [
    "# 1.インポート"
   ]
  },
  {
   "cell_type": "code",
   "execution_count": 1,
   "metadata": {},
   "outputs": [],
   "source": [
    "import pandas as pd\n",
    "import numpy as np\n",
    "from matplotlib import pyplot as plt\n",
    "%matplotlib inline"
   ]
  },
  {
   "cell_type": "markdown",
   "metadata": {},
   "source": [
    "# 2.かぞえチャオ出力結果ファイルの読み込み\n",
    "ファイル名は半角英数字とする。"
   ]
  },
  {
   "cell_type": "code",
   "execution_count": 2,
   "metadata": {},
   "outputs": [],
   "source": [
    "data = pd.read_csv(\"test.csv\",encoding=\"SHIFT-JIS\")"
   ]
  },
  {
   "cell_type": "markdown",
   "metadata": {},
   "source": [
    "# 3.パス名の編集"
   ]
  },
  {
   "cell_type": "code",
   "execution_count": 3,
   "metadata": {},
   "outputs": [],
   "source": [
    "after = data[\"変更後パス名\"].str.split(\"\\\\\", expand=True)\n",
    "before = data[\"変更前パス名\"].str.split(\"\\\\\", expand=True)"
   ]
  },
  {
   "cell_type": "code",
   "execution_count": 4,
   "metadata": {},
   "outputs": [],
   "source": [
    "before_top = before[[2,3]]\n",
    "before_top.columns = [\"変更前TOP\",\"変更前サブ\"]\n",
    "data = pd.concat([before_top,data],axis=1).drop(\"変更前パス名\",axis=1)"
   ]
  },
  {
   "cell_type": "code",
   "execution_count": null,
   "metadata": {},
   "outputs": [],
   "source": [
    "data"
   ]
  },
  {
   "cell_type": "code",
   "execution_count": 5,
   "metadata": {},
   "outputs": [],
   "source": [
    "after_top = after[[3,4]]\n",
    "after_top.columns = [\"変更後TOP\",\"変更後サブ\"]\n",
    "data = pd.concat([after_top,data],axis=1).drop(\"変更後パス名\",axis=1)"
   ]
  },
  {
   "cell_type": "code",
   "execution_count": 7,
   "metadata": {},
   "outputs": [
    {
     "data": {
      "text/html": [
       "<div>\n",
       "<style scoped>\n",
       "    .dataframe tbody tr th:only-of-type {\n",
       "        vertical-align: middle;\n",
       "    }\n",
       "\n",
       "    .dataframe tbody tr th {\n",
       "        vertical-align: top;\n",
       "    }\n",
       "\n",
       "    .dataframe thead th {\n",
       "        text-align: right;\n",
       "    }\n",
       "</style>\n",
       "<table border=\"1\" class=\"dataframe\">\n",
       "  <thead>\n",
       "    <tr style=\"text-align: right;\">\n",
       "      <th></th>\n",
       "      <th>変更後TOP</th>\n",
       "      <th>変更後サブ</th>\n",
       "      <th>変更前TOP</th>\n",
       "      <th>変更前サブ</th>\n",
       "      <th>モジュール名</th>\n",
       "      <th>種類</th>\n",
       "      <th>新規ステップ数</th>\n",
       "      <th>修正元ステップ数</th>\n",
       "      <th>修正ステップ数</th>\n",
       "      <th>流用ステップ数</th>\n",
       "      <th>削除ステップ数</th>\n",
       "    </tr>\n",
       "  </thead>\n",
       "  <tbody>\n",
       "    <tr>\n",
       "      <th>0</th>\n",
       "      <td>AnyPro</td>\n",
       "      <td>anyarea.c</td>\n",
       "      <td>AnyPro</td>\n",
       "      <td>anyarea.c</td>\n",
       "      <td>モジュール外</td>\n",
       "      <td>c</td>\n",
       "      <td>0</td>\n",
       "      <td>23.0</td>\n",
       "      <td>3.0</td>\n",
       "      <td>19.0</td>\n",
       "      <td>4.0</td>\n",
       "    </tr>\n",
       "    <tr>\n",
       "      <th>1</th>\n",
       "      <td>AnyPro</td>\n",
       "      <td>anyarea.c</td>\n",
       "      <td>AnyPro</td>\n",
       "      <td>anyarea.c</td>\n",
       "      <td>int any_area</td>\n",
       "      <td>c</td>\n",
       "      <td>0</td>\n",
       "      <td>138.0</td>\n",
       "      <td>6.0</td>\n",
       "      <td>132.0</td>\n",
       "      <td>0.0</td>\n",
       "    </tr>\n",
       "    <tr>\n",
       "      <th>2</th>\n",
       "      <td>AnyPro</td>\n",
       "      <td>anyarea.c</td>\n",
       "      <td>AnyPro</td>\n",
       "      <td>anyarea.c</td>\n",
       "      <td>int any_area_initchg</td>\n",
       "      <td>c</td>\n",
       "      <td>0</td>\n",
       "      <td>0.0</td>\n",
       "      <td>0.0</td>\n",
       "      <td>44.0</td>\n",
       "      <td>0.0</td>\n",
       "    </tr>\n",
       "    <tr>\n",
       "      <th>3</th>\n",
       "      <td>AnyPro</td>\n",
       "      <td>anychg.c</td>\n",
       "      <td>AnyPro</td>\n",
       "      <td>anychg.c</td>\n",
       "      <td>モジュール外</td>\n",
       "      <td>c</td>\n",
       "      <td>0</td>\n",
       "      <td>108.0</td>\n",
       "      <td>8.0</td>\n",
       "      <td>101.0</td>\n",
       "      <td>6.0</td>\n",
       "    </tr>\n",
       "    <tr>\n",
       "      <th>4</th>\n",
       "      <td>AnyPro</td>\n",
       "      <td>anychg.c</td>\n",
       "      <td>AnyPro</td>\n",
       "      <td>anychg.c</td>\n",
       "      <td>int any_chg</td>\n",
       "      <td>c</td>\n",
       "      <td>0</td>\n",
       "      <td>0.0</td>\n",
       "      <td>0.0</td>\n",
       "      <td>120.0</td>\n",
       "      <td>0.0</td>\n",
       "    </tr>\n",
       "  </tbody>\n",
       "</table>\n",
       "</div>"
      ],
      "text/plain": [
       "   変更後TOP      変更後サブ  変更前TOP      変更前サブ                モジュール名 種類 新規ステップ数  \\\n",
       "0  AnyPro  anyarea.c  AnyPro  anyarea.c                モジュール外  c       0   \n",
       "1  AnyPro  anyarea.c  AnyPro  anyarea.c          int any_area  c       0   \n",
       "2  AnyPro  anyarea.c  AnyPro  anyarea.c  int any_area_initchg  c       0   \n",
       "3  AnyPro   anychg.c  AnyPro   anychg.c                モジュール外  c       0   \n",
       "4  AnyPro   anychg.c  AnyPro   anychg.c           int any_chg  c       0   \n",
       "\n",
       "   修正元ステップ数  修正ステップ数  流用ステップ数  削除ステップ数  \n",
       "0      23.0      3.0     19.0      4.0  \n",
       "1     138.0      6.0    132.0      0.0  \n",
       "2       0.0      0.0     44.0      0.0  \n",
       "3     108.0      8.0    101.0      6.0  \n",
       "4       0.0      0.0    120.0      0.0  "
      ]
     },
     "execution_count": 7,
     "metadata": {},
     "output_type": "execute_result"
    }
   ],
   "source": [
    "data.head()"
   ]
  },
  {
   "cell_type": "code",
   "execution_count": null,
   "metadata": {},
   "outputs": [],
   "source": [
    "data[\"変更後TOP\"]."
   ]
  },
  {
   "cell_type": "code",
   "execution_count": null,
   "metadata": {},
   "outputs": [],
   "source": []
  }
 ],
 "metadata": {
  "kernelspec": {
   "display_name": "Python 3",
   "language": "python",
   "name": "python3"
  },
  "language_info": {
   "codemirror_mode": {
    "name": "ipython",
    "version": 3
   },
   "file_extension": ".py",
   "mimetype": "text/x-python",
   "name": "python",
   "nbconvert_exporter": "python",
   "pygments_lexer": "ipython3",
   "version": "3.7.1"
  }
 },
 "nbformat": 4,
 "nbformat_minor": 2
}
